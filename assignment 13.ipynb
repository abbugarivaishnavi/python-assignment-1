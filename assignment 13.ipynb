{
 "cells": [
  {
   "cell_type": "markdown",
   "id": "dbdaafb9",
   "metadata": {},
   "source": [
    "### 1. What advantages do Excel spreadsheets have over CSV spreadsheets?"
   ]
  },
  {
   "cell_type": "raw",
   "id": "90f04e6f",
   "metadata": {},
   "source": [
    "We can do a lot of various operations on data in excel but no in csv.\n",
    "Excel can store more complex data.\n",
    "No distinction between data type in csv"
   ]
  },
  {
   "cell_type": "markdown",
   "id": "699bc4a1",
   "metadata": {},
   "source": [
    "### 2.What do you pass to csv.reader() and csv.writer() to create reader and writer objects?"
   ]
  },
  {
   "cell_type": "code",
   "execution_count": 3,
   "id": "cacb155f",
   "metadata": {},
   "outputs": [],
   "source": [
    "import csv"
   ]
  },
  {
   "cell_type": "raw",
   "id": "611aeb24",
   "metadata": {},
   "source": [
    "In csv.reader() we pass file and dialect.\n",
    "In csv.writer() we pass fileobj and dialect."
   ]
  },
  {
   "cell_type": "markdown",
   "id": "a848f6eb",
   "metadata": {},
   "source": [
    "### 3. What modes do File objects for reader and writer objects need to be opened in?"
   ]
  },
  {
   "cell_type": "raw",
   "id": "051184af",
   "metadata": {},
   "source": [
    "in reader object we open file in read mode 'r'\n",
    "in writer object we open file in write mode 'w'."
   ]
  },
  {
   "cell_type": "markdown",
   "id": "1ce44e1e",
   "metadata": {},
   "source": [
    "### 4. What method takes a list argument and writes it to a CSV file?"
   ]
  },
  {
   "cell_type": "raw",
   "id": "a208bb12",
   "metadata": {},
   "source": [
    "use writerow() method for list argument in csv file."
   ]
  },
  {
   "cell_type": "markdown",
   "id": "ce81ac75",
   "metadata": {},
   "source": [
    "### 5. What do the keyword arguments delimiter and line terminator do?"
   ]
  },
  {
   "cell_type": "raw",
   "id": "3b26bf3e",
   "metadata": {},
   "source": [
    "firstname, lastname, age\n",
    "vaishnavi, abbugari, 21\n",
    "puppy, abbugari,18"
   ]
  },
  {
   "cell_type": "raw",
   "id": "0bdd50f0",
   "metadata": {},
   "source": [
    "here ',' is delimiter we can use any character as per our needs.\n",
    "line terminator comes at end of line by default it is newline and can be changed accourding to requirement."
   ]
  },
  {
   "cell_type": "markdown",
   "id": "37811ffd",
   "metadata": {},
   "source": [
    "### 6. What function takes a string of JSON data and returns a Python data structure?"
   ]
  },
  {
   "cell_type": "raw",
   "id": "c302c8ef",
   "metadata": {},
   "source": [
    "dumps() function convert json data into python data structure"
   ]
  },
  {
   "cell_type": "markdown",
   "id": "ed78d979",
   "metadata": {},
   "source": [
    "### 7. What function takes a Python data structure and returns a string of JSON data?"
   ]
  },
  {
   "cell_type": "raw",
   "id": "8f1b6c03",
   "metadata": {},
   "source": [
    "loads() function converts python data structure and returns a string of json data."
   ]
  }
 ],
 "metadata": {
  "kernelspec": {
   "display_name": "Python 3 (ipykernel)",
   "language": "python",
   "name": "python3"
  },
  "language_info": {
   "codemirror_mode": {
    "name": "ipython",
    "version": 3
   },
   "file_extension": ".py",
   "mimetype": "text/x-python",
   "name": "python",
   "nbconvert_exporter": "python",
   "pygments_lexer": "ipython3",
   "version": "3.9.7"
  }
 },
 "nbformat": 4,
 "nbformat_minor": 5
}
